{
 "cells": [
  {
   "cell_type": "code",
   "execution_count": 1,
   "id": "b0d1efd9",
   "metadata": {},
   "outputs": [],
   "source": [
    "import pandas as pd\n",
    "import numpy as np\n",
    "import matplotlib as mpl\n",
    "import matplotlib.pyplot as plt\n",
    "import seaborn as sns\n",
    "import os\n",
    "# imports for supplemental Data\n",
    "import holidays\n",
    "import datetime as dt\n",
    "from holidays import country_holidays\n",
    "#import tick customization tools\n",
    "import matplotlib.ticker as mticks\n",
    "import matplotlib.dates as mdates\n",
    "## Setting figures to timeseries-friendly\n",
    "plt.rcParams['figure.figsize'] = (12,4)\n",
    "plt.rcParams['figure.facecolor'] = 'white'\n",
    "sns.set_context(\"talk\", font_scale=0.9)\n",
    "# set random seed\n",
    "SEED = 321\n",
    "np.random.seed(SEED)\n",
    "#display more columns\n",
    "pd.set_option('display.max_columns',50)\n",
    "\n"
   ]
  },
  {
   "cell_type": "code",
   "execution_count": 2,
   "id": "ab1f9c64",
   "metadata": {},
   "outputs": [
    {
     "data": {
      "text/plain": [
       "['Data/Chicago\\\\Chicago-Crime_2001.csv',\n",
       " 'Data/Chicago\\\\Chicago-Crime_2002.csv',\n",
       " 'Data/Chicago\\\\Chicago-Crime_2003.csv',\n",
       " 'Data/Chicago\\\\Chicago-Crime_2004.csv',\n",
       " 'Data/Chicago\\\\Chicago-Crime_2005.csv',\n",
       " 'Data/Chicago\\\\Chicago-Crime_2006.csv',\n",
       " 'Data/Chicago\\\\Chicago-Crime_2007.csv',\n",
       " 'Data/Chicago\\\\Chicago-Crime_2008.csv',\n",
       " 'Data/Chicago\\\\Chicago-Crime_2009.csv',\n",
       " 'Data/Chicago\\\\Chicago-Crime_2010.csv',\n",
       " 'Data/Chicago\\\\Chicago-Crime_2011.csv',\n",
       " 'Data/Chicago\\\\Chicago-Crime_2012.csv',\n",
       " 'Data/Chicago\\\\Chicago-Crime_2013.csv',\n",
       " 'Data/Chicago\\\\Chicago-Crime_2014.csv',\n",
       " 'Data/Chicago\\\\Chicago-Crime_2015.csv',\n",
       " 'Data/Chicago\\\\Chicago-Crime_2016.csv',\n",
       " 'Data/Chicago\\\\Chicago-Crime_2017.csv',\n",
       " 'Data/Chicago\\\\Chicago-Crime_2018.csv',\n",
       " 'Data/Chicago\\\\Chicago-Crime_2019.csv',\n",
       " 'Data/Chicago\\\\Chicago-Crime_2020.csv',\n",
       " 'Data/Chicago\\\\Chicago-Crime_2021.csv',\n",
       " 'Data/Chicago\\\\Chicago-Crime_2022.csv',\n",
       " 'Data/Chicago\\\\Chicago-Crime_2023.csv']"
      ]
     },
     "execution_count": 2,
     "metadata": {},
     "output_type": "execute_result"
    }
   ],
   "source": [
    "import glob\n",
    "q = \"Data/Chicago/*.csv\"\n",
    "chunked_files = sorted(glob.glob(q))\n",
    "# Show up to first 30 files\n",
    "chunked_files[:30]"
   ]
  },
  {
   "cell_type": "code",
   "execution_count": 3,
   "id": "4614c1b0",
   "metadata": {},
   "outputs": [
    {
     "data": {
      "text/html": [
       "<div>\n",
       "<style scoped>\n",
       "    .dataframe tbody tr th:only-of-type {\n",
       "        vertical-align: middle;\n",
       "    }\n",
       "\n",
       "    .dataframe tbody tr th {\n",
       "        vertical-align: top;\n",
       "    }\n",
       "\n",
       "    .dataframe thead th {\n",
       "        text-align: right;\n",
       "    }\n",
       "</style>\n",
       "<table border=\"1\" class=\"dataframe\">\n",
       "  <thead>\n",
       "    <tr style=\"text-align: right;\">\n",
       "      <th></th>\n",
       "      <th>Date</th>\n",
       "      <th>Primary Type</th>\n",
       "      <th>Description</th>\n",
       "      <th>Location Description</th>\n",
       "      <th>Arrest</th>\n",
       "      <th>Domestic</th>\n",
       "      <th>Beat</th>\n",
       "      <th>District</th>\n",
       "      <th>Ward</th>\n",
       "      <th>Latitude</th>\n",
       "      <th>Longitude\\r</th>\n",
       "    </tr>\n",
       "    <tr>\n",
       "      <th>ID</th>\n",
       "      <th></th>\n",
       "      <th></th>\n",
       "      <th></th>\n",
       "      <th></th>\n",
       "      <th></th>\n",
       "      <th></th>\n",
       "      <th></th>\n",
       "      <th></th>\n",
       "      <th></th>\n",
       "      <th></th>\n",
       "      <th></th>\n",
       "    </tr>\n",
       "  </thead>\n",
       "  <tbody>\n",
       "    <tr>\n",
       "      <th>6154338</th>\n",
       "      <td>01/01/2001 01:00:00 PM</td>\n",
       "      <td>THEFT</td>\n",
       "      <td>FINANCIAL ID THEFT: OVER $300</td>\n",
       "      <td>RESIDENCE</td>\n",
       "      <td>False</td>\n",
       "      <td>False</td>\n",
       "      <td>831</td>\n",
       "      <td>8.0</td>\n",
       "      <td>15.0</td>\n",
       "      <td>41.774819</td>\n",
       "      <td>-87.702896431\\r</td>\n",
       "    </tr>\n",
       "    <tr>\n",
       "      <th>1313213</th>\n",
       "      <td>01/01/2001 01:00:00 AM</td>\n",
       "      <td>BATTERY</td>\n",
       "      <td>SIMPLE</td>\n",
       "      <td>VEHICLE NON-COMMERCIAL</td>\n",
       "      <td>False</td>\n",
       "      <td>True</td>\n",
       "      <td>731</td>\n",
       "      <td>7.0</td>\n",
       "      <td>NaN</td>\n",
       "      <td>41.765396</td>\n",
       "      <td>-87.626697771\\r</td>\n",
       "    </tr>\n",
       "    <tr>\n",
       "      <th>1328315</th>\n",
       "      <td>01/01/2001 01:00:00 AM</td>\n",
       "      <td>DECEPTIVE PRACTICE</td>\n",
       "      <td>FRAUD OR CONFIDENCE GAME</td>\n",
       "      <td>RESIDENCE</td>\n",
       "      <td>False</td>\n",
       "      <td>False</td>\n",
       "      <td>725</td>\n",
       "      <td>7.0</td>\n",
       "      <td>NaN</td>\n",
       "      <td>41.771269</td>\n",
       "      <td>-87.662929135\\r</td>\n",
       "    </tr>\n",
       "    <tr>\n",
       "      <th>1311626</th>\n",
       "      <td>01/01/2001 01:00:00 AM</td>\n",
       "      <td>CRIMINAL DAMAGE</td>\n",
       "      <td>TO VEHICLE</td>\n",
       "      <td>STREET</td>\n",
       "      <td>False</td>\n",
       "      <td>False</td>\n",
       "      <td>1033</td>\n",
       "      <td>10.0</td>\n",
       "      <td>NaN</td>\n",
       "      <td>41.848786</td>\n",
       "      <td>-87.704086603\\r</td>\n",
       "    </tr>\n",
       "    <tr>\n",
       "      <th>1313086</th>\n",
       "      <td>01/01/2001 01:00:00 PM</td>\n",
       "      <td>THEFT</td>\n",
       "      <td>OVER $500</td>\n",
       "      <td>OTHER</td>\n",
       "      <td>False</td>\n",
       "      <td>False</td>\n",
       "      <td>1732</td>\n",
       "      <td>17.0</td>\n",
       "      <td>NaN</td>\n",
       "      <td>41.953070</td>\n",
       "      <td>-87.716715611\\r</td>\n",
       "    </tr>\n",
       "  </tbody>\n",
       "</table>\n",
       "</div>"
      ],
      "text/plain": [
       "                           Date        Primary Type  \\\n",
       "ID                                                    \n",
       "6154338  01/01/2001 01:00:00 PM               THEFT   \n",
       "1313213  01/01/2001 01:00:00 AM             BATTERY   \n",
       "1328315  01/01/2001 01:00:00 AM  DECEPTIVE PRACTICE   \n",
       "1311626  01/01/2001 01:00:00 AM     CRIMINAL DAMAGE   \n",
       "1313086  01/01/2001 01:00:00 PM               THEFT   \n",
       "\n",
       "                           Description    Location Description  Arrest  \\\n",
       "ID                                                                       \n",
       "6154338  FINANCIAL ID THEFT: OVER $300               RESIDENCE   False   \n",
       "1313213                         SIMPLE  VEHICLE NON-COMMERCIAL   False   \n",
       "1328315       FRAUD OR CONFIDENCE GAME               RESIDENCE   False   \n",
       "1311626                     TO VEHICLE                  STREET   False   \n",
       "1313086                      OVER $500                   OTHER   False   \n",
       "\n",
       "         Domestic  Beat  District  Ward   Latitude      Longitude\\r  \n",
       "ID                                                                   \n",
       "6154338     False   831       8.0  15.0  41.774819  -87.702896431\\r  \n",
       "1313213      True   731       7.0   NaN  41.765396  -87.626697771\\r  \n",
       "1328315     False   725       7.0   NaN  41.771269  -87.662929135\\r  \n",
       "1311626     False  1033      10.0   NaN  41.848786  -87.704086603\\r  \n",
       "1313086     False  1732      17.0   NaN  41.953070  -87.716715611\\r  "
      ]
     },
     "execution_count": 3,
     "metadata": {},
     "output_type": "execute_result"
    }
   ],
   "source": [
    "# Loading all files\n",
    "df_list = []\n",
    "for file in chunked_files:\n",
    "    temp_df = pd.read_csv(file, index_col=0, lineterminator='\\n')\n",
    "    df_list.append(temp_df)\n",
    "    \n",
    "# concat\n",
    "df = pd.concat(df_list)\n",
    "df.head()"
   ]
  },
  {
   "cell_type": "code",
   "execution_count": 4,
   "id": "6723a513",
   "metadata": {},
   "outputs": [
    {
     "name": "stdout",
     "output_type": "stream",
     "text": [
      "<class 'pandas.core.frame.DataFrame'>\n",
      "Index: 7899126 entries, 6154338 to 13217098\n",
      "Data columns (total 11 columns):\n",
      " #   Column                Dtype  \n",
      "---  ------                -----  \n",
      " 0   Date                  object \n",
      " 1   Primary Type          object \n",
      " 2   Description           object \n",
      " 3   Location Description  object \n",
      " 4   Arrest                bool   \n",
      " 5   Domestic              bool   \n",
      " 6   Beat                  int64  \n",
      " 7   District              float64\n",
      " 8   Ward                  float64\n",
      " 9   Latitude              float64\n",
      " 10  Longitude\r",
      "            object \n",
      "dtypes: bool(2), float64(3), int64(1), object(5)\n",
      "memory usage: 617.7+ MB\n"
     ]
    }
   ],
   "source": [
    "df.info()"
   ]
  },
  {
   "cell_type": "code",
   "execution_count": 5,
   "id": "398f9309",
   "metadata": {},
   "outputs": [],
   "source": [
    "# drop duplicates\n",
    "df = df.drop_duplicates()\n",
    "\n"
   ]
  },
  {
   "cell_type": "code",
   "execution_count": 6,
   "id": "fd3ff95f",
   "metadata": {},
   "outputs": [
    {
     "data": {
      "text/plain": [
       "0"
      ]
     },
     "execution_count": 6,
     "metadata": {},
     "output_type": "execute_result"
    }
   ],
   "source": [
    "#check for duplicates\n",
    "df.duplicated().sum()"
   ]
  },
  {
   "cell_type": "code",
   "execution_count": 18,
   "id": "0c232e44",
   "metadata": {},
   "outputs": [
    {
     "ename": "KeyError",
     "evalue": "'Datetime'",
     "output_type": "error",
     "traceback": [
      "\u001b[1;31m---------------------------------------------------------------------------\u001b[0m",
      "\u001b[1;31mKeyError\u001b[0m                                  Traceback (most recent call last)",
      "File \u001b[1;32m~\\anaconda3\\Lib\\site-packages\\pandas\\core\\indexes\\base.py:3653\u001b[0m, in \u001b[0;36mIndex.get_loc\u001b[1;34m(self, key)\u001b[0m\n\u001b[0;32m   3652\u001b[0m \u001b[38;5;28;01mtry\u001b[39;00m:\n\u001b[1;32m-> 3653\u001b[0m     \u001b[38;5;28;01mreturn\u001b[39;00m \u001b[38;5;28mself\u001b[39m\u001b[38;5;241m.\u001b[39m_engine\u001b[38;5;241m.\u001b[39mget_loc(casted_key)\n\u001b[0;32m   3654\u001b[0m \u001b[38;5;28;01mexcept\u001b[39;00m \u001b[38;5;167;01mKeyError\u001b[39;00m \u001b[38;5;28;01mas\u001b[39;00m err:\n",
      "File \u001b[1;32m~\\anaconda3\\Lib\\site-packages\\pandas\\_libs\\index.pyx:147\u001b[0m, in \u001b[0;36mpandas._libs.index.IndexEngine.get_loc\u001b[1;34m()\u001b[0m\n",
      "File \u001b[1;32m~\\anaconda3\\Lib\\site-packages\\pandas\\_libs\\index.pyx:176\u001b[0m, in \u001b[0;36mpandas._libs.index.IndexEngine.get_loc\u001b[1;34m()\u001b[0m\n",
      "File \u001b[1;32mpandas\\_libs\\hashtable_class_helper.pxi:7080\u001b[0m, in \u001b[0;36mpandas._libs.hashtable.PyObjectHashTable.get_item\u001b[1;34m()\u001b[0m\n",
      "File \u001b[1;32mpandas\\_libs\\hashtable_class_helper.pxi:7088\u001b[0m, in \u001b[0;36mpandas._libs.hashtable.PyObjectHashTable.get_item\u001b[1;34m()\u001b[0m\n",
      "\u001b[1;31mKeyError\u001b[0m: 'Datetime'",
      "\nThe above exception was the direct cause of the following exception:\n",
      "\u001b[1;31mKeyError\u001b[0m                                  Traceback (most recent call last)",
      "Cell \u001b[1;32mIn[18], line 2\u001b[0m\n\u001b[0;32m      1\u001b[0m \u001b[38;5;66;03m# feature engineering for dates\u001b[39;00m\n\u001b[1;32m----> 2\u001b[0m df[\u001b[38;5;124m'\u001b[39m\u001b[38;5;124mYear\u001b[39m\u001b[38;5;124m'\u001b[39m] \u001b[38;5;241m=\u001b[39m df[\u001b[38;5;124m'\u001b[39m\u001b[38;5;124mDatetime\u001b[39m\u001b[38;5;124m'\u001b[39m]\u001b[38;5;241m.\u001b[39mdt\u001b[38;5;241m.\u001b[39myear\n\u001b[0;32m      3\u001b[0m df[\u001b[38;5;124m'\u001b[39m\u001b[38;5;124mMonth\u001b[39m\u001b[38;5;124m'\u001b[39m] \u001b[38;5;241m=\u001b[39m df[\u001b[38;5;124m'\u001b[39m\u001b[38;5;124mDatetime\u001b[39m\u001b[38;5;124m'\u001b[39m]\u001b[38;5;241m.\u001b[39mdt\u001b[38;5;241m.\u001b[39mmonth_name()\n\u001b[0;32m      4\u001b[0m df[\u001b[38;5;124m'\u001b[39m\u001b[38;5;124mDay of Month\u001b[39m\u001b[38;5;124m'\u001b[39m] \u001b[38;5;241m=\u001b[39m df[\u001b[38;5;124m'\u001b[39m\u001b[38;5;124mDatetime\u001b[39m\u001b[38;5;124m'\u001b[39m]\u001b[38;5;241m.\u001b[39mdt\u001b[38;5;241m.\u001b[39mday\n",
      "File \u001b[1;32m~\\anaconda3\\Lib\\site-packages\\pandas\\core\\frame.py:3761\u001b[0m, in \u001b[0;36mDataFrame.__getitem__\u001b[1;34m(self, key)\u001b[0m\n\u001b[0;32m   3759\u001b[0m \u001b[38;5;28;01mif\u001b[39;00m \u001b[38;5;28mself\u001b[39m\u001b[38;5;241m.\u001b[39mcolumns\u001b[38;5;241m.\u001b[39mnlevels \u001b[38;5;241m>\u001b[39m \u001b[38;5;241m1\u001b[39m:\n\u001b[0;32m   3760\u001b[0m     \u001b[38;5;28;01mreturn\u001b[39;00m \u001b[38;5;28mself\u001b[39m\u001b[38;5;241m.\u001b[39m_getitem_multilevel(key)\n\u001b[1;32m-> 3761\u001b[0m indexer \u001b[38;5;241m=\u001b[39m \u001b[38;5;28mself\u001b[39m\u001b[38;5;241m.\u001b[39mcolumns\u001b[38;5;241m.\u001b[39mget_loc(key)\n\u001b[0;32m   3762\u001b[0m \u001b[38;5;28;01mif\u001b[39;00m is_integer(indexer):\n\u001b[0;32m   3763\u001b[0m     indexer \u001b[38;5;241m=\u001b[39m [indexer]\n",
      "File \u001b[1;32m~\\anaconda3\\Lib\\site-packages\\pandas\\core\\indexes\\base.py:3655\u001b[0m, in \u001b[0;36mIndex.get_loc\u001b[1;34m(self, key)\u001b[0m\n\u001b[0;32m   3653\u001b[0m     \u001b[38;5;28;01mreturn\u001b[39;00m \u001b[38;5;28mself\u001b[39m\u001b[38;5;241m.\u001b[39m_engine\u001b[38;5;241m.\u001b[39mget_loc(casted_key)\n\u001b[0;32m   3654\u001b[0m \u001b[38;5;28;01mexcept\u001b[39;00m \u001b[38;5;167;01mKeyError\u001b[39;00m \u001b[38;5;28;01mas\u001b[39;00m err:\n\u001b[1;32m-> 3655\u001b[0m     \u001b[38;5;28;01mraise\u001b[39;00m \u001b[38;5;167;01mKeyError\u001b[39;00m(key) \u001b[38;5;28;01mfrom\u001b[39;00m \u001b[38;5;21;01merr\u001b[39;00m\n\u001b[0;32m   3656\u001b[0m \u001b[38;5;28;01mexcept\u001b[39;00m \u001b[38;5;167;01mTypeError\u001b[39;00m:\n\u001b[0;32m   3657\u001b[0m     \u001b[38;5;66;03m# If we have a listlike key, _check_indexing_error will raise\u001b[39;00m\n\u001b[0;32m   3658\u001b[0m     \u001b[38;5;66;03m#  InvalidIndexError. Otherwise we fall through and re-raise\u001b[39;00m\n\u001b[0;32m   3659\u001b[0m     \u001b[38;5;66;03m#  the TypeError.\u001b[39;00m\n\u001b[0;32m   3660\u001b[0m     \u001b[38;5;28mself\u001b[39m\u001b[38;5;241m.\u001b[39m_check_indexing_error(key)\n",
      "\u001b[1;31mKeyError\u001b[0m: 'Datetime'"
     ]
    }
   ],
   "source": [
    "# feature engineering for dates\n",
    "df['Year'] = df['Datetime'].dt.year\n",
    "df['Month'] = df['Datetime'].dt.month_name()\n",
    "df['Day of Month'] = df['Datetime'].dt.day\n",
    "df['Day of Week'] = df['Datetime'].dt.day_name()\n",
    "df['Hour'] = df['Datetime'].dt.hour\n",
    "df['Month']=df['Datetime'].dt.month\n",
    "df\n",
    "\n"
   ]
  },
  {
   "cell_type": "code",
   "execution_count": 7,
   "id": "9fcf6920",
   "metadata": {},
   "outputs": [
    {
     "name": "stderr",
     "output_type": "stream",
     "text": [
      "C:\\Users\\jezep\\AppData\\Local\\Temp\\ipykernel_7924\\2698217800.py:2: UserWarning: Could not infer format, so each element will be parsed individually, falling back to `dateutil`. To ensure parsing is consistent and as-expected, please specify a format.\n",
      "  df[\"Date\"] = pd.to_datetime(df[\"Date\"])\n"
     ]
    },
    {
     "name": "stdout",
     "output_type": "stream",
     "text": [
      "<class 'pandas.core.frame.DataFrame'>\n",
      "Index: 7879328 entries, 6154338 to 13217098\n",
      "Data columns (total 11 columns):\n",
      " #   Column                Dtype         \n",
      "---  ------                -----         \n",
      " 0   Date                  datetime64[ns]\n",
      " 1   Primary Type          object        \n",
      " 2   Description           object        \n",
      " 3   Location Description  object        \n",
      " 4   Arrest                bool          \n",
      " 5   Domestic              bool          \n",
      " 6   Beat                  int64         \n",
      " 7   District              float64       \n",
      " 8   Ward                  float64       \n",
      " 9   Latitude              float64       \n",
      " 10  Longitude\r",
      "            object        \n",
      "dtypes: bool(2), datetime64[ns](1), float64(3), int64(1), object(4)\n",
      "memory usage: 616.2+ MB\n"
     ]
    }
   ],
   "source": [
    "#Converte date to datetime\n",
    "df[\"Date\"] = pd.to_datetime(df[\"Date\"])\n",
    "df.info()"
   ]
  },
  {
   "cell_type": "code",
   "execution_count": 8,
   "id": "18b5cb2d",
   "metadata": {},
   "outputs": [
    {
     "data": {
      "text/html": [
       "<div>\n",
       "<style scoped>\n",
       "    .dataframe tbody tr th:only-of-type {\n",
       "        vertical-align: middle;\n",
       "    }\n",
       "\n",
       "    .dataframe tbody tr th {\n",
       "        vertical-align: top;\n",
       "    }\n",
       "\n",
       "    .dataframe thead th {\n",
       "        text-align: right;\n",
       "    }\n",
       "</style>\n",
       "<table border=\"1\" class=\"dataframe\">\n",
       "  <thead>\n",
       "    <tr style=\"text-align: right;\">\n",
       "      <th></th>\n",
       "      <th>Primary Type</th>\n",
       "      <th>Description</th>\n",
       "      <th>Location Description</th>\n",
       "      <th>Arrest</th>\n",
       "      <th>Domestic</th>\n",
       "      <th>Beat</th>\n",
       "      <th>District</th>\n",
       "      <th>Ward</th>\n",
       "      <th>Latitude</th>\n",
       "      <th>Longitude\\r</th>\n",
       "    </tr>\n",
       "    <tr>\n",
       "      <th>Date</th>\n",
       "      <th></th>\n",
       "      <th></th>\n",
       "      <th></th>\n",
       "      <th></th>\n",
       "      <th></th>\n",
       "      <th></th>\n",
       "      <th></th>\n",
       "      <th></th>\n",
       "      <th></th>\n",
       "      <th></th>\n",
       "    </tr>\n",
       "  </thead>\n",
       "  <tbody>\n",
       "    <tr>\n",
       "      <th>2001-01-01 13:00:00</th>\n",
       "      <td>THEFT</td>\n",
       "      <td>FINANCIAL ID THEFT: OVER $300</td>\n",
       "      <td>RESIDENCE</td>\n",
       "      <td>False</td>\n",
       "      <td>False</td>\n",
       "      <td>831</td>\n",
       "      <td>8.0</td>\n",
       "      <td>15.0</td>\n",
       "      <td>41.774819</td>\n",
       "      <td>-87.702896431\\r</td>\n",
       "    </tr>\n",
       "    <tr>\n",
       "      <th>2001-01-01 01:00:00</th>\n",
       "      <td>BATTERY</td>\n",
       "      <td>SIMPLE</td>\n",
       "      <td>VEHICLE NON-COMMERCIAL</td>\n",
       "      <td>False</td>\n",
       "      <td>True</td>\n",
       "      <td>731</td>\n",
       "      <td>7.0</td>\n",
       "      <td>NaN</td>\n",
       "      <td>41.765396</td>\n",
       "      <td>-87.626697771\\r</td>\n",
       "    </tr>\n",
       "    <tr>\n",
       "      <th>2001-01-01 01:00:00</th>\n",
       "      <td>DECEPTIVE PRACTICE</td>\n",
       "      <td>FRAUD OR CONFIDENCE GAME</td>\n",
       "      <td>RESIDENCE</td>\n",
       "      <td>False</td>\n",
       "      <td>False</td>\n",
       "      <td>725</td>\n",
       "      <td>7.0</td>\n",
       "      <td>NaN</td>\n",
       "      <td>41.771269</td>\n",
       "      <td>-87.662929135\\r</td>\n",
       "    </tr>\n",
       "    <tr>\n",
       "      <th>2001-01-01 01:00:00</th>\n",
       "      <td>CRIMINAL DAMAGE</td>\n",
       "      <td>TO VEHICLE</td>\n",
       "      <td>STREET</td>\n",
       "      <td>False</td>\n",
       "      <td>False</td>\n",
       "      <td>1033</td>\n",
       "      <td>10.0</td>\n",
       "      <td>NaN</td>\n",
       "      <td>41.848786</td>\n",
       "      <td>-87.704086603\\r</td>\n",
       "    </tr>\n",
       "    <tr>\n",
       "      <th>2001-01-01 13:00:00</th>\n",
       "      <td>THEFT</td>\n",
       "      <td>OVER $500</td>\n",
       "      <td>OTHER</td>\n",
       "      <td>False</td>\n",
       "      <td>False</td>\n",
       "      <td>1732</td>\n",
       "      <td>17.0</td>\n",
       "      <td>NaN</td>\n",
       "      <td>41.953070</td>\n",
       "      <td>-87.716715611\\r</td>\n",
       "    </tr>\n",
       "  </tbody>\n",
       "</table>\n",
       "</div>"
      ],
      "text/plain": [
       "                           Primary Type                    Description  \\\n",
       "Date                                                                     \n",
       "2001-01-01 13:00:00               THEFT  FINANCIAL ID THEFT: OVER $300   \n",
       "2001-01-01 01:00:00             BATTERY                         SIMPLE   \n",
       "2001-01-01 01:00:00  DECEPTIVE PRACTICE       FRAUD OR CONFIDENCE GAME   \n",
       "2001-01-01 01:00:00     CRIMINAL DAMAGE                     TO VEHICLE   \n",
       "2001-01-01 13:00:00               THEFT                      OVER $500   \n",
       "\n",
       "                       Location Description  Arrest  Domestic  Beat  District  \\\n",
       "Date                                                                            \n",
       "2001-01-01 13:00:00               RESIDENCE   False     False   831       8.0   \n",
       "2001-01-01 01:00:00  VEHICLE NON-COMMERCIAL   False      True   731       7.0   \n",
       "2001-01-01 01:00:00               RESIDENCE   False     False   725       7.0   \n",
       "2001-01-01 01:00:00                  STREET   False     False  1033      10.0   \n",
       "2001-01-01 13:00:00                   OTHER   False     False  1732      17.0   \n",
       "\n",
       "                     Ward   Latitude      Longitude\\r  \n",
       "Date                                                   \n",
       "2001-01-01 13:00:00  15.0  41.774819  -87.702896431\\r  \n",
       "2001-01-01 01:00:00   NaN  41.765396  -87.626697771\\r  \n",
       "2001-01-01 01:00:00   NaN  41.771269  -87.662929135\\r  \n",
       "2001-01-01 01:00:00   NaN  41.848786  -87.704086603\\r  \n",
       "2001-01-01 13:00:00   NaN  41.953070  -87.716715611\\r  "
      ]
     },
     "execution_count": 8,
     "metadata": {},
     "output_type": "execute_result"
    }
   ],
   "source": [
    "#Set date as index\n",
    "df = df.set_index(\"Date\")\n",
    "df.head()"
   ]
  },
  {
   "cell_type": "markdown",
   "id": "24cd6f2f",
   "metadata": {},
   "source": [
    "Topic 1) Comparing Police Districts:\n",
    "\n",
    "    - Which district has the most crimes? Which has the least?"
   ]
  },
  {
   "cell_type": "code",
   "execution_count": 12,
   "id": "e7969831",
   "metadata": {},
   "outputs": [
    {
     "data": {
      "text/plain": [
       "District\n",
       "8.0     529359\n",
       "11.0    502466\n",
       "6.0     461174\n",
       "7.0     454136\n",
       "25.0    448029\n",
       "4.0     447548\n",
       "3.0     399724\n",
       "12.0    391713\n",
       "9.0     384715\n",
       "2.0     373327\n",
       "19.0    354954\n",
       "18.0    354432\n",
       "5.0     348978\n",
       "10.0    339457\n",
       "15.0    336121\n",
       "1.0     319638\n",
       "14.0    304759\n",
       "16.0    264073\n",
       "22.0    258333\n",
       "24.0    238813\n",
       "17.0    227494\n",
       "20.0    139787\n",
       "31.0       247\n",
       "21.0         4\n",
       "Name: count, dtype: int64"
      ]
     },
     "execution_count": 12,
     "metadata": {},
     "output_type": "execute_result"
    }
   ],
   "source": [
    "df['District'].value_counts()"
   ]
  },
  {
   "cell_type": "markdown",
   "id": "55d77b8c",
   "metadata": {},
   "source": [
    "- District 8.0 has the most number of crimes.\n",
    "- District 21.0 has the least number of crimes.\n",
    "\n"
   ]
  },
  {
   "cell_type": "code",
   "execution_count": 26,
   "id": "f418a853",
   "metadata": {},
   "outputs": [
    {
     "data": {
      "image/png": "[encoded data removed]",
      "text/plain": [
       "<Figure size 1200x400 with 1 Axes>"
      ]
     },
     "metadata": {},
     "output_type": "display_data"
    }
   ],
   "source": [
    "# visualize crimes by district no.\n",
    "ax = sns.countplot(data=df, x='District',palette='dark');\n",
    "plt.xticks(rotation=90);\n",
    "plt.grid(which= 'major',axis= 'y',color= 'k', ls=':')\n",
    "plt.tight_layout()\n",
    "plt.title('Number of Crimes by District', fontweight = 'bold');\n",
    "plt.savefig('crimesByDistrict.jpeg', dpi=300);"
   ]
  },
  {
   "cell_type": "markdown",
   "id": "5f1a3118",
   "metadata": {},
   "source": [
    "Q2: What months have the most crime? What months have the least?\n"
   ]
  },
  {
   "cell_type": "code",
   "execution_count": 13,
   "id": "eb376b39",
   "metadata": {},
   "outputs": [
    {
     "data": {
      "text/plain": [
       "Date\n",
       "2001-01-31    38036\n",
       "2001-02-28    33719\n",
       "2001-03-31    40429\n",
       "2001-04-30    40042\n",
       "2001-05-31    41758\n",
       "              ...  \n",
       "2023-05-31    22000\n",
       "2023-06-30    22384\n",
       "2023-07-31    23623\n",
       "2023-08-31    23565\n",
       "2023-09-30    13465\n",
       "Freq: M, Length: 273, dtype: int64"
      ]
     },
     "execution_count": 13,
     "metadata": {},
     "output_type": "execute_result"
    }
   ],
   "source": [
    "#Monthly data\n",
    "ts = df.resample(\"M\").size().loc['2001':]\n",
    "ts\n",
    "\n"
   ]
  },
  {
   "cell_type": "code",
   "execution_count": 14,
   "id": "3ce7155a",
   "metadata": {},
   "outputs": [],
   "source": [
    "#correct freq\n",
    "ts = df.resample(\"M\").size()"
   ]
  },
  {
   "cell_type": "code",
   "execution_count": 15,
   "id": "69b8cca4",
   "metadata": {},
   "outputs": [
    {
     "data": {
      "text/plain": [
       "Timestamp('2002-07-31 00:00:00')"
      ]
     },
     "execution_count": 15,
     "metadata": {},
     "output_type": "execute_result"
    }
   ],
   "source": [
    "most_crimes = ts.idxmax()\n",
    "most_crimes"
   ]
  },
  {
   "cell_type": "code",
   "execution_count": 16,
   "id": "82f4ece3",
   "metadata": {},
   "outputs": [
    {
     "data": {
      "text/plain": [
       "45873"
      ]
     },
     "execution_count": 16,
     "metadata": {},
     "output_type": "execute_result"
    }
   ],
   "source": [
    "ts.loc[most_crimes]"
   ]
  },
  {
   "cell_type": "code",
   "execution_count": 20,
   "id": "f6c2836f",
   "metadata": {},
   "outputs": [
    {
     "data": {
      "text/html": [
       "<div>\n",
       "<style scoped>\n",
       "    .dataframe tbody tr th:only-of-type {\n",
       "        vertical-align: middle;\n",
       "    }\n",
       "\n",
       "    .dataframe tbody tr th {\n",
       "        vertical-align: top;\n",
       "    }\n",
       "\n",
       "    .dataframe thead th {\n",
       "        text-align: right;\n",
       "    }\n",
       "</style>\n",
       "<table border=\"1\" class=\"dataframe\">\n",
       "  <thead>\n",
       "    <tr style=\"text-align: right;\">\n",
       "      <th></th>\n",
       "      <th>Primary Type</th>\n",
       "      <th>Description</th>\n",
       "      <th>Location Description</th>\n",
       "      <th>Arrest</th>\n",
       "      <th>Domestic</th>\n",
       "      <th>Beat</th>\n",
       "      <th>District</th>\n",
       "      <th>Ward</th>\n",
       "      <th>Latitude</th>\n",
       "      <th>Longitude\\r</th>\n",
       "      <th>Year</th>\n",
       "      <th>MonthName</th>\n",
       "      <th>HourOfDay</th>\n",
       "      <th>Month</th>\n",
       "    </tr>\n",
       "    <tr>\n",
       "      <th>Date</th>\n",
       "      <th></th>\n",
       "      <th></th>\n",
       "      <th></th>\n",
       "      <th></th>\n",
       "      <th></th>\n",
       "      <th></th>\n",
       "      <th></th>\n",
       "      <th></th>\n",
       "      <th></th>\n",
       "      <th></th>\n",
       "      <th></th>\n",
       "      <th></th>\n",
       "      <th></th>\n",
       "      <th></th>\n",
       "    </tr>\n",
       "  </thead>\n",
       "  <tbody>\n",
       "    <tr>\n",
       "      <th>2001-01-01 13:00:00</th>\n",
       "      <td>THEFT</td>\n",
       "      <td>FINANCIAL ID THEFT: OVER $300</td>\n",
       "      <td>RESIDENCE</td>\n",
       "      <td>False</td>\n",
       "      <td>False</td>\n",
       "      <td>831</td>\n",
       "      <td>8.0</td>\n",
       "      <td>15.0</td>\n",
       "      <td>41.774819</td>\n",
       "      <td>-87.702896431\\r</td>\n",
       "      <td>2001</td>\n",
       "      <td>January</td>\n",
       "      <td>13</td>\n",
       "      <td>January</td>\n",
       "    </tr>\n",
       "    <tr>\n",
       "      <th>2001-01-01 01:00:00</th>\n",
       "      <td>BATTERY</td>\n",
       "      <td>SIMPLE</td>\n",
       "      <td>VEHICLE NON-COMMERCIAL</td>\n",
       "      <td>False</td>\n",
       "      <td>True</td>\n",
       "      <td>731</td>\n",
       "      <td>7.0</td>\n",
       "      <td>NaN</td>\n",
       "      <td>41.765396</td>\n",
       "      <td>-87.626697771\\r</td>\n",
       "      <td>2001</td>\n",
       "      <td>January</td>\n",
       "      <td>1</td>\n",
       "      <td>January</td>\n",
       "    </tr>\n",
       "    <tr>\n",
       "      <th>2001-01-01 01:00:00</th>\n",
       "      <td>DECEPTIVE PRACTICE</td>\n",
       "      <td>FRAUD OR CONFIDENCE GAME</td>\n",
       "      <td>RESIDENCE</td>\n",
       "      <td>False</td>\n",
       "      <td>False</td>\n",
       "      <td>725</td>\n",
       "      <td>7.0</td>\n",
       "      <td>NaN</td>\n",
       "      <td>41.771269</td>\n",
       "      <td>-87.662929135\\r</td>\n",
       "      <td>2001</td>\n",
       "      <td>January</td>\n",
       "      <td>1</td>\n",
       "      <td>January</td>\n",
       "    </tr>\n",
       "    <tr>\n",
       "      <th>2001-01-01 01:00:00</th>\n",
       "      <td>CRIMINAL DAMAGE</td>\n",
       "      <td>TO VEHICLE</td>\n",
       "      <td>STREET</td>\n",
       "      <td>False</td>\n",
       "      <td>False</td>\n",
       "      <td>1033</td>\n",
       "      <td>10.0</td>\n",
       "      <td>NaN</td>\n",
       "      <td>41.848786</td>\n",
       "      <td>-87.704086603\\r</td>\n",
       "      <td>2001</td>\n",
       "      <td>January</td>\n",
       "      <td>1</td>\n",
       "      <td>January</td>\n",
       "    </tr>\n",
       "    <tr>\n",
       "      <th>2001-01-01 13:00:00</th>\n",
       "      <td>THEFT</td>\n",
       "      <td>OVER $500</td>\n",
       "      <td>OTHER</td>\n",
       "      <td>False</td>\n",
       "      <td>False</td>\n",
       "      <td>1732</td>\n",
       "      <td>17.0</td>\n",
       "      <td>NaN</td>\n",
       "      <td>41.953070</td>\n",
       "      <td>-87.716715611\\r</td>\n",
       "      <td>2001</td>\n",
       "      <td>January</td>\n",
       "      <td>13</td>\n",
       "      <td>January</td>\n",
       "    </tr>\n",
       "  </tbody>\n",
       "</table>\n",
       "</div>"
      ],
      "text/plain": [
       "                           Primary Type                    Description  \\\n",
       "Date                                                                     \n",
       "2001-01-01 13:00:00               THEFT  FINANCIAL ID THEFT: OVER $300   \n",
       "2001-01-01 01:00:00             BATTERY                         SIMPLE   \n",
       "2001-01-01 01:00:00  DECEPTIVE PRACTICE       FRAUD OR CONFIDENCE GAME   \n",
       "2001-01-01 01:00:00     CRIMINAL DAMAGE                     TO VEHICLE   \n",
       "2001-01-01 13:00:00               THEFT                      OVER $500   \n",
       "\n",
       "                       Location Description  Arrest  Domestic  Beat  District  \\\n",
       "Date                                                                            \n",
       "2001-01-01 13:00:00               RESIDENCE   False     False   831       8.0   \n",
       "2001-01-01 01:00:00  VEHICLE NON-COMMERCIAL   False      True   731       7.0   \n",
       "2001-01-01 01:00:00               RESIDENCE   False     False   725       7.0   \n",
       "2001-01-01 01:00:00                  STREET   False     False  1033      10.0   \n",
       "2001-01-01 13:00:00                   OTHER   False     False  1732      17.0   \n",
       "\n",
       "                     Ward   Latitude      Longitude\\r  Year MonthName  \\\n",
       "Date                                                                    \n",
       "2001-01-01 13:00:00  15.0  41.774819  -87.702896431\\r  2001   January   \n",
       "2001-01-01 01:00:00   NaN  41.765396  -87.626697771\\r  2001   January   \n",
       "2001-01-01 01:00:00   NaN  41.771269  -87.662929135\\r  2001   January   \n",
       "2001-01-01 01:00:00   NaN  41.848786  -87.704086603\\r  2001   January   \n",
       "2001-01-01 13:00:00   NaN  41.953070  -87.716715611\\r  2001   January   \n",
       "\n",
       "                     HourOfDay    Month  \n",
       "Date                                     \n",
       "2001-01-01 13:00:00         13  January  \n",
       "2001-01-01 01:00:00          1  January  \n",
       "2001-01-01 01:00:00          1  January  \n",
       "2001-01-01 01:00:00          1  January  \n",
       "2001-01-01 13:00:00         13  January  "
      ]
     },
     "execution_count": 20,
     "metadata": {},
     "output_type": "execute_result"
    }
   ],
   "source": [
    "df['Year']  = df.index.year\n",
    "df['Month'] = df.index.month_name()\n",
    "df['HourOfDay'] = df.index.hour \n",
    "df.head()"
   ]
  },
  {
   "cell_type": "code",
   "execution_count": 21,
   "id": "b2a5e8dd",
   "metadata": {},
   "outputs": [
    {
     "data": {
      "text/plain": [
       "Month\n",
       "July         739197\n",
       "August       732064\n",
       "May          703469\n",
       "June         702624\n",
       "September    679877\n",
       "October      674212\n",
       "March        648672\n",
       "April        646339\n",
       "January      620715\n",
       "November     607415\n",
       "December     578403\n",
       "February     546341\n",
       "Name: count, dtype: int64"
      ]
     },
     "execution_count": 21,
     "metadata": {},
     "output_type": "execute_result"
    }
   ],
   "source": [
    "# find the values\n",
    "df['Month'].value_counts()"
   ]
  },
  {
   "cell_type": "markdown",
   "id": "60ec3d61",
   "metadata": {},
   "source": [
    "- July has the most crime\n",
    "- February has the least crime"
   ]
  },
  {
   "cell_type": "markdown",
   "id": "ab676b9f",
   "metadata": {},
   "source": [
    "Topic 2) Crimes Across the Years:\n",
    "\n",
    "- Is the total number of crimes increasing or decreasing across the years?"
   ]
  },
  {
   "cell_type": "code",
   "execution_count": 27,
   "id": "1ba0a73f",
   "metadata": {},
   "outputs": [
    {
     "data": {
      "text/plain": [
       "Year\n",
       "2002    485219\n",
       "2001    484678\n",
       "2003    473861\n",
       "2004    467515\n",
       "2005    452087\n",
       "2006    446174\n",
       "2007    435718\n",
       "2008    426308\n",
       "2009    392110\n",
       "2010    369894\n",
       "2011    351430\n",
       "2012    335791\n",
       "2013    306979\n",
       "2014    275356\n",
       "2016    269294\n",
       "2017    268596\n",
       "2018    268526\n",
       "2015    264371\n",
       "2019    260936\n",
       "2022    238551\n",
       "2020    211943\n",
       "2021    208542\n",
       "2023    185449\n",
       "Name: count, dtype: int64"
      ]
     },
     "execution_count": 27,
     "metadata": {},
     "output_type": "execute_result"
    }
   ],
   "source": [
    "df['Year'].value_counts()"
   ]
  },
  {
   "cell_type": "code",
   "execution_count": 28,
   "id": "5d37d600",
   "metadata": {
    "scrolled": true
   },
   "outputs": [
    {
     "data": {
      "image/png": "[encoded data removed]",
      "text/plain": [
       "<Figure size 1200x400 with 1 Axes>"
      ]
     },
     "metadata": {},
     "output_type": "display_data"
    }
   ],
   "source": [
    "year_count = df['Year'].value_counts().sort_index()\n",
    "year_count.plot(style='o-',grid=True,ylabel='number of Crimes', xlabel='Year');\n",
    "\n"
   ]
  },
  {
   "cell_type": "markdown",
   "id": "a81d7bdd",
   "metadata": {},
   "source": [
    "- The graph shows that the is decreasing acroos the years"
   ]
  },
  {
   "cell_type": "code",
   "execution_count": null,
   "id": "d295c219",
   "metadata": {},
   "outputs": [],
   "source": []
  },
  {
   "cell_type": "code",
   "execution_count": null,
   "id": "a51429a1",
   "metadata": {},
   "outputs": [],
   "source": []
  },
  {
   "cell_type": "code",
   "execution_count": null,
   "id": "e92afb83",
   "metadata": {},
   "outputs": [],
   "source": []
  }
 ],
 "metadata": {
  "kernelspec": {
   "display_name": "Python (dojo-env)",
   "language": "python",
   "name": "dojo-env"
  },
  "language_info": {
   "codemirror_mode": {
    "name": "ipython",
    "version": 3
   },
   "file_extension": ".py",
   "mimetype": "text/x-python",
   "name": "python",
   "nbconvert_exporter": "python",
   "pygments_lexer": "ipython3",
   "version": "3.11.4"
  }
 },
 "nbformat": 4,
 "nbformat_minor": 5
}
